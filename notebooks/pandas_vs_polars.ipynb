{
 "cells": [
  {
   "cell_type": "code",
   "execution_count": 1,
   "id": "0c6e9117-3021-45ee-bd44-0108014a6a94",
   "metadata": {
    "tags": []
   },
   "outputs": [],
   "source": [
    "import numpy as np\n",
    "import pandas as pd\n",
    "import polars as pl"
   ]
  },
  {
   "cell_type": "code",
   "execution_count": 2,
   "id": "59b8ea07-9c82-4a43-be97-7483089b7197",
   "metadata": {
    "tags": []
   },
   "outputs": [
    {
     "name": "stdout",
     "output_type": "stream",
     "text": [
      "Number of dates: 5,679,649\n"
     ]
    }
   ],
   "source": [
    "dates = pd.date_range(\"1970-01-01\", \"2023-12-30\", freq=\"5min\")\n",
    "array_length = len(dates)\n",
    "print(f\"Number of dates: {array_length:,}\")"
   ]
  },
  {
   "cell_type": "code",
   "execution_count": 3,
   "id": "1d770138-7c43-41d2-a797-a8c6733997ee",
   "metadata": {
    "tags": []
   },
   "outputs": [],
   "source": [
    "random_ints = np.random.randint(0, 100, array_length)\n",
    "data = {\"ts\": dates, \"data\": random_ints}"
   ]
  },
  {
   "cell_type": "code",
   "execution_count": 7,
   "id": "f56c53ef-1a08-41a3-89b7-6e9904e6481b",
   "metadata": {
    "tags": []
   },
   "outputs": [
    {
     "name": "stdout",
     "output_type": "stream",
     "text": [
      "CPU times: user 303 ms, sys: 30.2 ms, total: 333 ms\n",
      "Wall time: 331 ms\n"
     ]
    }
   ],
   "source": [
    "%%time\n",
    "pandas_df = pd.DataFrame(data)\n",
    "pandas_df = (\n",
    "    pandas_df[(pandas_df[\"data\"] < 90) & (pandas_df[\"data\"] > 10)]\n",
    "    .groupby(pandas_df[\"ts\"].dt.year)\n",
    "    .mean()\n",
    ")"
   ]
  },
  {
   "cell_type": "code",
   "execution_count": 8,
   "id": "a70ef656-3bed-460f-8941-8dcc8f4f4ad9",
   "metadata": {
    "tags": []
   },
   "outputs": [
    {
     "data": {
      "text/html": [
       "<div>\n",
       "<style scoped>\n",
       "    .dataframe tbody tr th:only-of-type {\n",
       "        vertical-align: middle;\n",
       "    }\n",
       "\n",
       "    .dataframe tbody tr th {\n",
       "        vertical-align: top;\n",
       "    }\n",
       "\n",
       "    .dataframe thead th {\n",
       "        text-align: right;\n",
       "    }\n",
       "</style>\n",
       "<table border=\"1\" class=\"dataframe\">\n",
       "  <thead>\n",
       "    <tr style=\"text-align: right;\">\n",
       "      <th></th>\n",
       "      <th>ts</th>\n",
       "      <th>data</th>\n",
       "    </tr>\n",
       "    <tr>\n",
       "      <th>ts</th>\n",
       "      <th></th>\n",
       "      <th></th>\n",
       "    </tr>\n",
       "  </thead>\n",
       "  <tbody>\n",
       "    <tr>\n",
       "      <th>1970</th>\n",
       "      <td>1970-07-02 18:20:47.376420352</td>\n",
       "      <td>49.990748</td>\n",
       "    </tr>\n",
       "    <tr>\n",
       "      <th>1971</th>\n",
       "      <td>1971-07-02 07:10:10.927044528</td>\n",
       "      <td>49.968050</td>\n",
       "    </tr>\n",
       "    <tr>\n",
       "      <th>1972</th>\n",
       "      <td>1972-07-02 00:18:32.755377792</td>\n",
       "      <td>50.145570</td>\n",
       "    </tr>\n",
       "    <tr>\n",
       "      <th>1973</th>\n",
       "      <td>1973-07-02 16:38:17.132237072</td>\n",
       "      <td>50.095079</td>\n",
       "    </tr>\n",
       "    <tr>\n",
       "      <th>1974</th>\n",
       "      <td>1974-07-02 05:57:49.504945728</td>\n",
       "      <td>50.058061</td>\n",
       "    </tr>\n",
       "  </tbody>\n",
       "</table>\n",
       "</div>"
      ],
      "text/plain": [
       "                                ts       data\n",
       "ts                                           \n",
       "1970 1970-07-02 18:20:47.376420352  49.990748\n",
       "1971 1971-07-02 07:10:10.927044528  49.968050\n",
       "1972 1972-07-02 00:18:32.755377792  50.145570\n",
       "1973 1973-07-02 16:38:17.132237072  50.095079\n",
       "1974 1974-07-02 05:57:49.504945728  50.058061"
      ]
     },
     "execution_count": 8,
     "metadata": {},
     "output_type": "execute_result"
    }
   ],
   "source": [
    "pandas_df.head()"
   ]
  },
  {
   "cell_type": "code",
   "execution_count": 9,
   "id": "b7c66fff-01cd-4aec-b947-24e57a6835a1",
   "metadata": {
    "tags": []
   },
   "outputs": [
    {
     "name": "stdout",
     "output_type": "stream",
     "text": [
      "CPU times: user 108 ms, sys: 56.8 ms, total: 165 ms\n",
      "Wall time: 111 ms\n"
     ]
    }
   ],
   "source": [
    "%%time\n",
    "polars_df = pl.DataFrame(data)\n",
    "polars_df = (\n",
    "    polars_df.filter(pl.col(\"data\") > 10)\n",
    "    .filter(pl.col(\"data\") < 90)\n",
    "    .set_sorted(pl.col(\"ts\"))\n",
    "    .group_by_dynamic(\"ts\", every=\"1y\")\n",
    "    .agg(pl.col(\"data\").mean())\n",
    ")"
   ]
  },
  {
   "cell_type": "code",
   "execution_count": 10,
   "id": "8ec8c924-1ca1-4012-8e36-41d86990f205",
   "metadata": {
    "tags": []
   },
   "outputs": [
    {
     "data": {
      "text/html": [
       "<div><style>\n",
       ".dataframe > thead > tr > th,\n",
       ".dataframe > tbody > tr > td {\n",
       "  text-align: right;\n",
       "  white-space: pre-wrap;\n",
       "}\n",
       "</style>\n",
       "<small>shape: (5, 2)</small><table border=\"1\" class=\"dataframe\"><thead><tr><th>ts</th><th>data</th></tr><tr><td>datetime[ns]</td><td>f64</td></tr></thead><tbody><tr><td>1970-01-01 00:00:00</td><td>49.990748</td></tr><tr><td>1971-01-01 00:00:00</td><td>49.96805</td></tr><tr><td>1972-01-01 00:00:00</td><td>50.14557</td></tr><tr><td>1973-01-01 00:00:00</td><td>50.095079</td></tr><tr><td>1974-01-01 00:00:00</td><td>50.058061</td></tr></tbody></table></div>"
      ],
      "text/plain": [
       "shape: (5, 2)\n",
       "┌─────────────────────┬───────────┐\n",
       "│ ts                  ┆ data      │\n",
       "│ ---                 ┆ ---       │\n",
       "│ datetime[ns]        ┆ f64       │\n",
       "╞═════════════════════╪═══════════╡\n",
       "│ 1970-01-01 00:00:00 ┆ 49.990748 │\n",
       "│ 1971-01-01 00:00:00 ┆ 49.96805  │\n",
       "│ 1972-01-01 00:00:00 ┆ 50.14557  │\n",
       "│ 1973-01-01 00:00:00 ┆ 50.095079 │\n",
       "│ 1974-01-01 00:00:00 ┆ 50.058061 │\n",
       "└─────────────────────┴───────────┘"
      ]
     },
     "execution_count": 10,
     "metadata": {},
     "output_type": "execute_result"
    }
   ],
   "source": [
    "polars_df.head()"
   ]
  },
  {
   "cell_type": "code",
   "execution_count": 11,
   "id": "1e31ec94-0fc0-4807-b25d-cf8da1099271",
   "metadata": {
    "tags": []
   },
   "outputs": [
    {
     "name": "stdout",
     "output_type": "stream",
     "text": [
      "CPU times: user 28 ms, sys: 6.06 ms, total: 34 ms\n",
      "Wall time: 31.5 ms\n"
     ]
    }
   ],
   "source": [
    "%%time\n",
    "lazy_df = pl.LazyFrame(data)\n",
    "lazy_df = (\n",
    "    lazy_df.filter(pl.col(\"data\") > 10)\n",
    "    .filter(pl.col(\"data\") < 90)\n",
    "    .set_sorted(pl.col(\"ts\"))\n",
    "    .group_by(pl.col(\"ts\").dt.year())\n",
    "    .agg(pl.col(\"data\").mean())\n",
    ")"
   ]
  },
  {
   "cell_type": "code",
   "execution_count": 13,
   "id": "cbfa0406-197a-4d2c-a647-86eb3f1d3b1f",
   "metadata": {
    "tags": []
   },
   "outputs": [
    {
     "data": {
      "text/html": [
       "<div><style>\n",
       ".dataframe > thead > tr > th,\n",
       ".dataframe > tbody > tr > td {\n",
       "  text-align: right;\n",
       "  white-space: pre-wrap;\n",
       "}\n",
       "</style>\n",
       "<small>shape: (5, 2)</small><table border=\"1\" class=\"dataframe\"><thead><tr><th>ts</th><th>data</th></tr><tr><td>i32</td><td>f64</td></tr></thead><tbody><tr><td>2000</td><td>49.957553</td></tr><tr><td>1976</td><td>49.840038</td></tr><tr><td>1984</td><td>49.973568</td></tr><tr><td>1992</td><td>49.816619</td></tr><tr><td>2016</td><td>50.007296</td></tr></tbody></table></div>"
      ],
      "text/plain": [
       "shape: (5, 2)\n",
       "┌──────┬───────────┐\n",
       "│ ts   ┆ data      │\n",
       "│ ---  ┆ ---       │\n",
       "│ i32  ┆ f64       │\n",
       "╞══════╪═══════════╡\n",
       "│ 2000 ┆ 49.957553 │\n",
       "│ 1976 ┆ 49.840038 │\n",
       "│ 1984 ┆ 49.973568 │\n",
       "│ 1992 ┆ 49.816619 │\n",
       "│ 2016 ┆ 50.007296 │\n",
       "└──────┴───────────┘"
      ]
     },
     "execution_count": 13,
     "metadata": {},
     "output_type": "execute_result"
    }
   ],
   "source": [
    "lazy_df.collect().head()"
   ]
  },
  {
   "cell_type": "markdown",
   "id": "45d89ba8-8529-4761-9887-d282a3c4e625",
   "metadata": {},
   "source": [
    "## References\n",
    "- https://realpython.com/polars-python/#seamless-integration"
   ]
  },
  {
   "cell_type": "code",
   "execution_count": null,
   "id": "56df9cad-fba3-4f3c-bc36-961c7ae10fb9",
   "metadata": {},
   "outputs": [],
   "source": []
  },
  {
   "cell_type": "code",
   "execution_count": null,
   "id": "2a2a8718-260b-4104-b88c-0d815cb01cd2",
   "metadata": {},
   "outputs": [],
   "source": []
  }
 ],
 "metadata": {
  "kernelspec": {
   "display_name": "Python 3 (ipykernel)",
   "language": "python",
   "name": "python3"
  },
  "language_info": {
   "codemirror_mode": {
    "name": "ipython",
    "version": 3
   },
   "file_extension": ".py",
   "mimetype": "text/x-python",
   "name": "python",
   "nbconvert_exporter": "python",
   "pygments_lexer": "ipython3",
   "version": "3.11.6"
  }
 },
 "nbformat": 4,
 "nbformat_minor": 5
}
